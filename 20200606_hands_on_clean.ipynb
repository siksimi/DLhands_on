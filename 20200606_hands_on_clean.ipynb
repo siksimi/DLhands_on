{
  "nbformat": 4,
  "nbformat_minor": 0,
  "metadata": {
    "colab": {
      "name": "20200606_hands_on_clean.ipynb",
      "provenance": [],
      "collapsed_sections": [],
      "authorship_tag": "ABX9TyN/o/FclONrzdJhnYnfYb7M",
      "include_colab_link": true
    },
    "kernelspec": {
      "name": "python3",
      "display_name": "Python 3"
    }
  },
  "cells": [
    {
      "cell_type": "markdown",
      "metadata": {
        "id": "view-in-github",
        "colab_type": "text"
      },
      "source": [
        "<a href=\"https://colab.research.google.com/github/siksimi/DLhands_on/blob/master/20200606_hands_on_clean.ipynb\" target=\"_parent\"><img src=\"https://colab.research.google.com/assets/colab-badge.svg\" alt=\"Open In Colab\"/></a>"
      ]
    },
    {
      "cell_type": "code",
      "metadata": {
        "id": "JxYfSIzX5VGU",
        "colab_type": "code",
        "colab": {}
      },
      "source": [
        "import pandas as pd\n",
        "from sklearn.model_selection import train_test_split, GridSearchCV\n",
        "from sklearn.preprocessing import StandardScaler\n",
        "from sklearn.linear_model import LogisticRegression\n",
        "from sklearn.feature_selection import SelectKBest, mutual_info_classif\n",
        "from sklearn.metrics import roc_auc_score, f1_score\n",
        "from sklearn.pipeline import Pipeline"
      ],
      "execution_count": 0,
      "outputs": []
    },
    {
      "cell_type": "code",
      "metadata": {
        "id": "gvriBamx60j0",
        "colab_type": "code",
        "colab": {}
      },
      "source": [
        "df_int = pd.read_csv('GvM_training_cohort.csv')\n",
        "df_ext = pd.read_csv('GvM_ext_cohort.csv')"
      ],
      "execution_count": 0,
      "outputs": []
    },
    {
      "cell_type": "code",
      "metadata": {
        "id": "fByHbhLR1YeC",
        "colab_type": "code",
        "colab": {}
      },
      "source": [
        "bool_idx = df_int.columns.str.startswith('CE_mask') | \\\n",
        "    df_int.columns.str.startswith('periT2_mask') & \\\n",
        "    (~ df_int.columns.str.contains('EdgeContrast'))\n",
        "bool_idx = df_ext.columns.str.startswith('CE_mask') | \\\n",
        "    df_ext.columns.str.startswith('periT2_mask') & \\\n",
        "    (~ df_ext.columns.str.contains('EdgeContrast'))\n",
        "\n",
        "X_int = df_int.loc[:, bool_idx]\n",
        "y_int = df_int['Label']\n",
        "X_ext = df_ext.loc[:, bool_idx]\n",
        "y_ext = df_ext['Label']"
      ],
      "execution_count": 0,
      "outputs": []
    },
    {
      "cell_type": "code",
      "metadata": {
        "id": "lwmjaJY64vs6",
        "colab_type": "code",
        "outputId": "cb00c620-192a-4926-bed7-e4802b9cf3fd",
        "colab": {
          "base_uri": "https://localhost:8080/",
          "height": 51
        }
      },
      "source": [
        "X_train, X_val, y_train, y_val = \\\n",
        "  train_test_split (X_int, y_int, test_size=0.3, random_state=2020, stratify=y_int)\n",
        "\n",
        "scaler = StandardScaler()\n",
        "scaler.fit(X_train)\n",
        "X_train = scaler.transform(X_train)\n",
        "X_val = scaler.transform(X_val)\n",
        "X_ext = scaler.transform(X_ext)\n",
        "\n",
        "print('No of total in training/validation sets: {0} / {1}'.format(len(X_train), len(X_val)))\n",
        "print('Proportion of Mets in training/validation sets: {0} / {1}'.format(y_train.sum()/len(y_train), y_val.sum()/len(y_val)))"
      ],
      "execution_count": 7,
      "outputs": [
        {
          "output_type": "stream",
          "text": [
            "No of total in training/validation sets: 116 / 51\n",
            "Proportion of Mets in training/validation sets: 0.3448275862068966 / 0.35294117647058826\n"
          ],
          "name": "stdout"
        }
      ]
    },
    {
      "cell_type": "code",
      "metadata": {
        "id": "CpP4O2ODNLVi",
        "colab_type": "code",
        "colab": {}
      },
      "source": [
        "combs = [(k, c) for k in [20, 40, 60, 80, 100, 120, 140, 160, 180, 200] \\\n",
        "        for c in [0.03, 0.04, 0.05, 0.06, 0.07, 0.08, 0.09, 0.1, 0.2, 0.3, 0.4, 0.5]]\n",
        "\n",
        "best_auc = 0\n",
        "\n",
        "for k, c in combs:\n",
        "  fs = SelectKBest(mutual_info_classif, k = k)\n",
        "  fs.fit(X_train, y_train)\n",
        "  X_train_t = fs.transform(X_train)\n",
        "  X_val_t = fs.transform(X_val)\n",
        "  X_ext_t = fs.transform(X_ext)\n",
        "\n",
        "  model = LogisticRegression(C = c, penalty='l1', solver='liblinear', random_state=0)\n",
        "  model.fit(X_train_t, y_train)\n",
        "  y_pred = model.predict(X_val_t)\n",
        "  auc = roc_auc_score(y_val, y_pred)\n",
        "  f1 = f1_score(y_val, y_pred)\n",
        "  print('Training with k = {0}, c = {1}\\n AUROC = {2}, F1 score = {3}'.format(k, c, auc, f1))\n",
        "\n",
        "  y_pred = model.predict(X_ext_t)\n",
        "  auc_ext = roc_auc_score(y_ext, y_pred)\n",
        "  f1_ext = f1_score(y_ext, y_pred)\n",
        "  print('Inference with k = {0}, c = {1}\\n AUROC = {2}, F1 score = {3}\\n'.format(k, c, auc_ext, f1_ext))\n",
        "\n",
        "  if auc > best_auc:\n",
        "    best_auc = auc\n",
        "    best_model = [fs, model, auc, auc_ext]\n",
        "  \n",
        "print(best_model)"
      ],
      "execution_count": 0,
      "outputs": []
    },
    {
      "cell_type": "code",
      "metadata": {
        "id": "JLeqk8pbUKwE",
        "colab_type": "code",
        "colab": {}
      },
      "source": [
        "clf = AdaBoostClassifier()\n",
        "prms = {'n_estimators': [50, 100, 150, 200, 300],\n",
        "        'learning_rate': [0.05, 0.1, 0.2, 0.5, 1]}\n",
        "\n",
        "search = GridSearchCV(clf, prms, cv = 10)\n",
        "\n",
        "search.fit(X_int, y_int)"
      ],
      "execution_count": 0,
      "outputs": []
    },
    {
      "cell_type": "code",
      "metadata": {
        "id": "getMPjS2VUJt",
        "colab_type": "code",
        "colab": {}
      },
      "source": [
        "y_pred = search.predict(X_ext)\n",
        "auc_ext = roc_auc_score(y_ext, y_pred)\n",
        "f1_ext = f1_score(y_ext, y_pred)\n",
        "\n",
        "print('Inference \\n AUROC = {2}, F1 score = {3}\\n'.format(k, c, auc_ext, f1_ext))"
      ],
      "execution_count": 0,
      "outputs": []
    },
    {
      "cell_type": "code",
      "metadata": {
        "id": "WqEA_pLEWJG7",
        "colab_type": "code",
        "colab": {
          "base_uri": "https://localhost:8080/",
          "height": 564
        },
        "outputId": "7ae76de7-bb9d-4199-859c-75dfa27340cc"
      },
      "source": [
        "#final with pipeline\n",
        "\n",
        "scaler = StandardScaler()\n",
        "selector = SelectKBest(mutual_info_classif)\n",
        "classifier = LogisticRegression(penalty = 'l1', solver= 'liblinear')\n",
        "\n",
        "pipe = Pipeline([('scaler', scaler), \n",
        "                ('fs', selector),\n",
        "                ('clf', classifier)])\n",
        "\n",
        "prm_grid = {\n",
        "    'fs__k': [20, 40, 60, 80, 100], \n",
        "    'clf__C': [0.03, 0.05, 0.1, 0.2]\n",
        "}\n",
        "\n",
        "gs_clf = GridSearchCV(pipe, prm_grid, cv = 5)\n",
        "gs_clf.fit(X_int, y_int)"
      ],
      "execution_count": 29,
      "outputs": [
        {
          "output_type": "execute_result",
          "data": {
            "text/plain": [
              "GridSearchCV(cv=5, error_score=nan,\n",
              "             estimator=Pipeline(memory=None,\n",
              "                                steps=[('scaler',\n",
              "                                        StandardScaler(copy=True,\n",
              "                                                       with_mean=True,\n",
              "                                                       with_std=True)),\n",
              "                                       ('fs',\n",
              "                                        SelectKBest(k=10,\n",
              "                                                    score_func=<function mutual_info_classif at 0x7f20f6d37c80>)),\n",
              "                                       ('clf',\n",
              "                                        LogisticRegression(C=1.0,\n",
              "                                                           class_weight=None,\n",
              "                                                           dual=False,\n",
              "                                                           fit_intercept=True,\n",
              "                                                           intercept_scaling=1,\n",
              "                                                           l1_ratio=None,\n",
              "                                                           max_iter=100,\n",
              "                                                           multi_class='auto',\n",
              "                                                           n_jobs=None,\n",
              "                                                           penalty='l1',\n",
              "                                                           random_state=None,\n",
              "                                                           solver='liblinear',\n",
              "                                                           tol=0.0001,\n",
              "                                                           verbose=0,\n",
              "                                                           warm_start=False))],\n",
              "                                verbose=False),\n",
              "             iid='deprecated', n_jobs=None,\n",
              "             param_grid={'clf__C': [0.03, 0.05, 0.1, 0.2],\n",
              "                         'fs__k': [20, 40, 60, 80, 100]},\n",
              "             pre_dispatch='2*n_jobs', refit=True, return_train_score=False,\n",
              "             scoring=None, verbose=0)"
            ]
          },
          "metadata": {
            "tags": []
          },
          "execution_count": 29
        }
      ]
    },
    {
      "cell_type": "code",
      "metadata": {
        "id": "vqsShDNtW9gR",
        "colab_type": "code",
        "colab": {
          "base_uri": "https://localhost:8080/",
          "height": 68
        },
        "outputId": "f19e0181-6946-4a94-e135-7dc3469ec596"
      },
      "source": [
        "y_pred = gs_clf.predict(X_ext)\n",
        "auc_ext = roc_auc_score(y_ext, y_pred)\n",
        "f1_ext = f1_score(y_ext, y_pred)\n",
        "\n",
        "print('Inference \\n AUROC = {2}, F1 score = {3}\\n'.format(k, c, auc_ext, f1_ext))"
      ],
      "execution_count": 30,
      "outputs": [
        {
          "output_type": "stream",
          "text": [
            "Inference \n",
            " AUROC = 0.68875, F1 score = 0.5714285714285714\n",
            "\n"
          ],
          "name": "stdout"
        }
      ]
    }
  ]
}