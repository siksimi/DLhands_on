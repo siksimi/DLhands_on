{
  "nbformat": 4,
  "nbformat_minor": 0,
  "metadata": {
    "colab": {
      "name": "20200606_hands_on.ipynb",
      "provenance": [],
      "collapsed_sections": [],
      "authorship_tag": "ABX9TyMwIFscqDhvfHzYyKySIbuA",
      "include_colab_link": true
    },
    "kernelspec": {
      "name": "python3",
      "display_name": "Python 3"
    }
  },
  "cells": [
    {
      "cell_type": "markdown",
      "metadata": {
        "id": "view-in-github",
        "colab_type": "text"
      },
      "source": [
        "<a href=\"https://colab.research.google.com/github/siksimi/DLhands_on/blob/master/20200606_hands_on.ipynb\" target=\"_parent\"><img src=\"https://colab.research.google.com/assets/colab-badge.svg\" alt=\"Open In Colab\"/></a>"
      ]
    },
    {
      "cell_type": "code",
      "metadata": {
        "id": "JxYfSIzX5VGU",
        "colab_type": "code",
        "colab": {}
      },
      "source": [
        "import pandas as pd\n",
        "from sklearn.model_selection import train_test_split\n",
        "from sklearn.preprocessing import StandardScaler\n",
        "from sklearn.linear_model import LogisticRegression\n",
        "from sklearn.feature_selection import SelectKBest, mutual_info_classif\n",
        "from sklearn.ensemble import AdaBoostClassifier\n",
        "from sklearn.metrics import roc_auc_score, f1_score"
      ],
      "execution_count": 0,
      "outputs": []
    },
    {
      "cell_type": "code",
      "metadata": {
        "id": "gvriBamx60j0",
        "colab_type": "code",
        "colab": {}
      },
      "source": [
        "df_int = pd.read_csv('sample_data/GvM_training_cohort.csv')\n",
        "df_ext = pd.read_csv('sample_data/GvM_ext_cohort.csv')"
      ],
      "execution_count": 0,
      "outputs": []
    },
    {
      "cell_type": "code",
      "metadata": {
        "id": "fByHbhLR1YeC",
        "colab_type": "code",
        "colab": {}
      },
      "source": [
        "bool_idx = df_int.columns.str.startswith('CE_mask') | \\\n",
        "    df_int.columns.str.startswith('periT2_mask') & \\\n",
        "    (~ df_int.columns.str.contains('EdgeContrast'))\n",
        "bool_idx = df_ext.columns.str.startswith('CE_mask') | \\\n",
        "    df_ext.columns.str.startswith('periT2_mask') & \\\n",
        "    (~ df_ext.columns.str.contains('EdgeContrast'))\n",
        "\n",
        "X_int = df_int.loc[:, bool_idx]\n",
        "y_int = df_int['Label']\n",
        "X_ext = df_ext.loc[:, bool_idx]\n",
        "y_ext = df_ext['Label']"
      ],
      "execution_count": 0,
      "outputs": []
    },
    {
      "cell_type": "code",
      "metadata": {
        "id": "lwmjaJY64vs6",
        "colab_type": "code",
        "outputId": "5cb459ff-213a-423b-fcf9-6cd96455c2ed",
        "colab": {
          "base_uri": "https://localhost:8080/",
          "height": 51
        }
      },
      "source": [
        "X_train, X_val, y_train, y_val = \\\n",
        "  train_test_split (X_int, y_int, test_size=0.3, random_state=2020, stratify=y_int)\n",
        "\n",
        "scaler = StandardScaler()\n",
        "scaler.fit(X_train)\n",
        "X_train = scaler.transform(X_train)\n",
        "scaler.fit(X_val)\n",
        "X_val = scaler.transform(X_val)\n",
        "scaler.fit(X_ext)\n",
        "X_ext = scaler.transform(X_ext)\n",
        "\n",
        "print('No of total in training/validation sets: {0} / {1}'.format(len(X_train), len(X_val)))\n",
        "print('Proportion of Mets in training/validation sets: {0} / {1}'.format(y_train.sum()/len(y_train), y_val.sum()/len(y_val)))"
      ],
      "execution_count": 0,
      "outputs": [
        {
          "output_type": "stream",
          "text": [
            "No of total in training/validation sets: 116 / 51\n",
            "Proportion of Mets in training/validation sets: 0.3448275862068966 / 0.35294117647058826\n"
          ],
          "name": "stdout"
        }
      ]
    },
    {
      "cell_type": "code",
      "metadata": {
        "id": "Bwd4dw0Q68yd",
        "colab_type": "code",
        "colab": {}
      },
      "source": [
        "model1_1 = LogisticRegression(C=0.001, penalty='l1', solver='liblinear', random_state=0)\n",
        "model1_2 = LogisticRegression(C=0.01, penalty='l1', solver='liblinear', random_state=0)\n",
        "model1_3 = LogisticRegression(C=0.02, penalty='l1', solver='liblinear', random_state=0)\n",
        "model1_4 = LogisticRegression(C=0.03, penalty='l1', solver='liblinear', random_state=0)\n",
        "model1_5 = LogisticRegression(C=0.04, penalty='l1', solver='liblinear', random_state=0)\n",
        "model1_6 = LogisticRegression(C=0.05, penalty='l1', solver='liblinear', random_state=0)\n",
        "model1_7 = LogisticRegression(C=0.06, penalty='l1', solver='liblinear', random_state=0)\n",
        "model1_8 = LogisticRegression(C=0.07, penalty='l1', solver='liblinear', random_state=0)\n",
        "model1_9 = LogisticRegression(C=0.08, penalty='l1', solver='liblinear', random_state=0)\n",
        "model1_10 = LogisticRegression(C=0.09, penalty='l1', solver='liblinear', random_state=0)\n",
        "model1_11 = LogisticRegression(C=0.1, penalty='l1', solver='liblinear', random_state=0)\n",
        "model1_12 = LogisticRegression(C=0.15, penalty='l1', solver='liblinear', random_state=0)\n",
        "model1_13 = LogisticRegression(C=0.2, penalty='l1', solver='liblinear', random_state=0)\n",
        "model1_14 = LogisticRegression(C=0.3, penalty='l1', solver='liblinear', random_state=0)\n",
        "\n",
        "model2_1 = AdaBoostClassifier(n_estimators=100, learning_rate = 0.1, random_state=0)\n",
        "model2_2 = AdaBoostClassifier(n_estimators=200, learning_rate = 0.1, random_state=0)\n",
        "model2_3 = AdaBoostClassifier(n_estimators=300, learning_rate = 0.1, random_state=0)\n",
        "model2_4 = AdaBoostClassifier(n_estimators=400, learning_rate = 0.1, random_state=0)\n",
        "model2_5 = AdaBoostClassifier(n_estimators=500, learning_rate = 0.1, random_state=0)\n",
        "model2_6 = AdaBoostClassifier(n_estimators=1000, learning_rate = 0.1, random_state=0)"
      ],
      "execution_count": 0,
      "outputs": []
    },
    {
      "cell_type": "code",
      "metadata": {
        "id": "JpV1sR5l8TBL",
        "colab_type": "code",
        "outputId": "6a604c32-e97b-4c8c-9a73-40dd4dea869d",
        "colab": {
          "base_uri": "https://localhost:8080/",
          "height": 357
        }
      },
      "source": [
        "for model in (model1_1, model1_2, model1_3, model1_4, model1_5, model1_6, model1_7, model1_8, model1_9, model1_10,model1_11, model1_12, model1_13, model1_14,model2_1, model2_2, model2_3, model2_4, model2_5, model2_6):\n",
        "  model.fit(X_train, y_train)\n",
        "  y_pred = model.predict(X_val)\n",
        "  roc = roc_auc_score(y_val, y_pred)\n",
        "  f1 = f1_score(y_val, y_pred)\n",
        "  print(roc, f1)"
      ],
      "execution_count": 0,
      "outputs": [
        {
          "output_type": "stream",
          "text": [
            "0.5 0.0\n",
            "0.5 0.0\n",
            "0.5 0.0\n",
            "0.5 0.0\n",
            "0.7222222222222223 0.6511627906976745\n",
            "0.8535353535353534 0.7999999999999999\n",
            "0.8838383838383838 0.8421052631578948\n",
            "0.9141414141414141 0.8888888888888888\n",
            "0.9141414141414141 0.8888888888888888\n",
            "0.9141414141414141 0.8888888888888888\n",
            "0.9292929292929294 0.9142857142857143\n",
            "0.8737373737373737 0.8484848484848485\n",
            "0.8585858585858586 0.823529411764706\n",
            "0.8863636363636366 0.8571428571428571\n",
            "0.803030303030303 0.75\n",
            "0.7904040404040404 0.7333333333333334\n",
            "0.7752525252525253 0.7096774193548387\n",
            "0.7752525252525253 0.7096774193548387\n",
            "0.7904040404040404 0.7333333333333334\n",
            "0.8181818181818181 0.7741935483870968\n"
          ],
          "name": "stdout"
        }
      ]
    },
    {
      "cell_type": "code",
      "metadata": {
        "id": "dnSd_s2gAu5r",
        "colab_type": "code",
        "outputId": "364851a5-de86-4db6-9159-76d4afb98c80",
        "colab": {
          "base_uri": "https://localhost:8080/",
          "height": 357
        }
      },
      "source": [
        "for model in (model1_1, model1_2, model1_3, model1_4, model1_5, model1_6, model1_7, model1_8, model1_9, model1_10,model1_11, model1_12, model1_13, model1_14,model2_1, model2_2, model2_3, model2_4, model2_5, model2_6):\n",
        "  y_pred = model.predict(X_ext)\n",
        "  roc = roc_auc_score(y_ext, y_pred)\n",
        "  f1 = f1_score(y_ext, y_pred)\n",
        "  print(roc, f1)"
      ],
      "execution_count": 0,
      "outputs": [
        {
          "output_type": "stream",
          "text": [
            "0.5 0.0\n",
            "0.5 0.0\n",
            "0.5 0.0\n",
            "0.5 0.0\n",
            "0.715 0.6666666666666665\n",
            "0.78625 0.742857142857143\n",
            "0.801875 0.7605633802816902\n",
            "0.8062500000000001 0.7647058823529411\n",
            "0.81625 0.7761194029850748\n",
            "0.83625 0.8\n",
            "0.84625 0.8125\n",
            "0.8718750000000001 0.84375\n",
            "0.8618750000000001 0.8307692307692308\n",
            "0.83625 0.8\n",
            "0.7725000000000001 0.7142857142857143\n",
            "0.7781250000000001 0.7241379310344829\n",
            "0.7781250000000001 0.7241379310344829\n",
            "0.7625000000000001 0.7017543859649122\n",
            "0.7625000000000001 0.7017543859649122\n",
            "0.746875 0.6785714285714286\n"
          ],
          "name": "stdout"
        }
      ]
    },
    {
      "cell_type": "code",
      "metadata": {
        "id": "m8kHaH15CVUN",
        "colab_type": "code",
        "colab": {}
      },
      "source": [
        "fs = SelectKBest(mutual_info_classif, k = \"all\")\n",
        "X = fs.fit(X_train, y_train)\n",
        "X.scores_"
      ],
      "execution_count": 0,
      "outputs": []
    },
    {
      "cell_type": "code",
      "metadata": {
        "id": "fqjbcRLtFaez",
        "colab_type": "code",
        "outputId": "35f86af3-9065-461e-db8a-92fa4f14a444",
        "colab": {
          "base_uri": "https://localhost:8080/",
          "height": 697
        }
      },
      "source": [
        "fs = SelectKBest(mutual_info_classif, k = 40)\n",
        "fs.fit(X_train, y_train)\n",
        "X_train_t = fs.transform(X_train)\n",
        "X_val_t = fs.transform(X_val)\n",
        "X_ext_t = fs.transform(X_ext)\n",
        "\n",
        "for model in (model1_1, model1_2, model1_3, model1_4, model1_5, model1_6, model1_7, model1_8, model1_9, model1_10,model1_11, model1_12, model1_13, model1_14,model2_1, model2_2, model2_3, model2_4, model2_5, model2_6):\n",
        "  model.fit(X_train_t, y_train)\n",
        "  y_pred = model.predict(X_val_t)\n",
        "  roc = roc_auc_score(y_val, y_pred)\n",
        "  f1 = f1_score(y_val, y_pred)\n",
        "  print(roc, f1)\n",
        "\n",
        "for model in (model1_1, model1_2, model1_3, model1_4, model1_5, model1_6, model1_7, model1_8, model1_9, model1_10,model1_11, model1_12, model1_13, model1_14,model2_1, model2_2, model2_3, model2_4, model2_5, model2_6):\n",
        "  y_pred = model.predict(X_ext_t)\n",
        "  roc = roc_auc_score(y_ext, y_pred)\n",
        "  f1 = f1_score(y_ext, y_pred)\n",
        "  print(roc, f1)"
      ],
      "execution_count": 0,
      "outputs": [
        {
          "output_type": "stream",
          "text": [
            "0.5 0.0\n",
            "0.5 0.0\n",
            "0.5 0.0\n",
            "0.5 0.0\n",
            "0.7222222222222223 0.6511627906976745\n",
            "0.8535353535353534 0.7999999999999999\n",
            "0.8686868686868687 0.8205128205128205\n",
            "0.8838383838383838 0.8421052631578948\n",
            "0.8712121212121212 0.8333333333333334\n",
            "0.8560606060606061 0.8108108108108109\n",
            "0.8560606060606061 0.8108108108108109\n",
            "0.8434343434343433 0.7999999999999999\n",
            "0.8434343434343433 0.7999999999999999\n",
            "0.8434343434343433 0.7999999999999999\n",
            "0.8863636363636366 0.8571428571428571\n",
            "0.8282828282828283 0.7777777777777778\n",
            "0.8560606060606061 0.8108108108108109\n",
            "0.8560606060606061 0.8108108108108109\n",
            "0.8560606060606061 0.8108108108108109\n",
            "0.8560606060606061 0.8108108108108109\n",
            "0.5 0.0\n",
            "0.5 0.0\n",
            "0.5 0.0\n",
            "0.5 0.0\n",
            "0.715 0.6666666666666665\n",
            "0.730625 0.684931506849315\n",
            "0.77625 0.7323943661971831\n",
            "0.7293750000000001 0.676470588235294\n",
            "0.718125 0.65625\n",
            "0.718125 0.65625\n",
            "0.718125 0.65625\n",
            "0.738125 0.6774193548387096\n",
            "0.7125 0.6451612903225806\n",
            "0.686875 0.6129032258064516\n",
            "0.7424999999999999 0.6779661016949152\n",
            "0.7581249999999999 0.7\n",
            "0.7525 0.6896551724137931\n",
            "0.7525 0.6896551724137931\n",
            "0.7581249999999999 0.7\n",
            "0.7737499999999999 0.7213114754098361\n"
          ],
          "name": "stdout"
        }
      ]
    }
  ]
}